{
  "nbformat": 4,
  "nbformat_minor": 0,
  "metadata": {
    "colab": {
      "provenance": [],
      "authorship_tag": "ABX9TyPydP/KnCuV3OvVFzG0B+es",
      "include_colab_link": true
    },
    "kernelspec": {
      "name": "python3",
      "display_name": "Python 3"
    },
    "language_info": {
      "name": "python"
    }
  },
  "cells": [
    {
      "cell_type": "markdown",
      "metadata": {
        "id": "view-in-github",
        "colab_type": "text"
      },
      "source": [
        "<a href=\"https://colab.research.google.com/github/DigitalSangee/CollegeWorkshop/blob/main/RNN_SimpleLearn_Model.ipynb\" target=\"_parent\"><img src=\"https://colab.research.google.com/assets/colab-badge.svg\" alt=\"Open In Colab\"/></a>"
      ]
    },
    {
      "cell_type": "code",
      "source": [
        "import tensorflow as tf\n",
        "from tensorflow.keras.datasets import imdb\n",
        "from tensorflow.keras.preprocessing.sequence import pad_sequences\n",
        "from tensorflow.keras.models import Sequential\n",
        "from tensorflow.keras.layers import Embedding, SimpleRNN, Dense\n",
        "\n",
        "# Load the IMDB movie review dataset\n",
        "num_words = 10000  # Consider the top 10,000 most frequent words\n",
        "max_sequence_length = 100  # Limit sequence length to 100 words\n",
        "(x_train, y_train), (x_test, y_test) = imdb.load_data(num_words=num_words)\n",
        "\n",
        "# Preprocess the data\n",
        "x_train = pad_sequences(x_train, maxlen=max_sequence_length)\n",
        "x_test = pad_sequences(x_test, maxlen=max_sequence_length)\n",
        "\n",
        "# Create the RNN model\n",
        "model = Sequential([\n",
        "    Embedding(input_dim=num_words, output_dim=64, input_length=max_sequence_length),\n",
        "    SimpleRNN(128),\n",
        "    Dense(1, activation='sigmoid')\n",
        "])\n",
        "\n",
        "# Compile the model\n",
        "model.compile(loss='binary_crossentropy', optimizer='adam', metrics=['accuracy'])\n",
        "\n",
        "# Train the model\n",
        "batch_size = 128\n",
        "epochs = 3\n",
        "model.fit(x_train, y_train, validation_data=(x_test, y_test), batch_size=batch_size, epochs=epochs)\n",
        "\n",
        "# Save the trained model\n",
        "model.save('rnn_sentiment_model.h5')\n",
        "\n"
      ],
      "metadata": {
        "colab": {
          "base_uri": "https://localhost:8080/"
        },
        "id": "gKQdEx8n8oVL",
        "outputId": "5f76fed1-c71f-4de3-d4b5-ec545088deb3"
      },
      "execution_count": 2,
      "outputs": [
        {
          "output_type": "stream",
          "name": "stdout",
          "text": [
            "Downloading data from https://storage.googleapis.com/tensorflow/tf-keras-datasets/imdb.npz\n",
            "17464789/17464789 [==============================] - 0s 0us/step\n",
            "Epoch 1/30\n",
            "196/196 [==============================] - 29s 143ms/step - loss: 0.6577 - accuracy: 0.5846 - val_loss: 0.4940 - val_accuracy: 0.7674\n",
            "Epoch 2/30\n",
            "196/196 [==============================] - 32s 161ms/step - loss: 0.4407 - accuracy: 0.7965 - val_loss: 0.4216 - val_accuracy: 0.8138\n",
            "Epoch 3/30\n",
            "196/196 [==============================] - 30s 155ms/step - loss: 0.3307 - accuracy: 0.8603 - val_loss: 0.4439 - val_accuracy: 0.7922\n",
            "Epoch 4/30\n",
            "196/196 [==============================] - 32s 162ms/step - loss: 0.4203 - accuracy: 0.7979 - val_loss: 0.5769 - val_accuracy: 0.6879\n",
            "Epoch 5/30\n",
            "196/196 [==============================] - 28s 141ms/step - loss: 0.3102 - accuracy: 0.8702 - val_loss: 0.4415 - val_accuracy: 0.8235\n",
            "Epoch 6/30\n",
            "196/196 [==============================] - 28s 141ms/step - loss: 0.2252 - accuracy: 0.9142 - val_loss: 0.4321 - val_accuracy: 0.8211\n",
            "Epoch 7/30\n",
            "196/196 [==============================] - 32s 162ms/step - loss: 0.1962 - accuracy: 0.9275 - val_loss: 0.4540 - val_accuracy: 0.8162\n",
            "Epoch 8/30\n",
            "196/196 [==============================] - 27s 138ms/step - loss: 0.1700 - accuracy: 0.9386 - val_loss: 0.5087 - val_accuracy: 0.8150\n",
            "Epoch 9/30\n",
            "196/196 [==============================] - 27s 140ms/step - loss: 0.1434 - accuracy: 0.9510 - val_loss: 0.5164 - val_accuracy: 0.8104\n",
            "Epoch 10/30\n",
            "196/196 [==============================] - 28s 142ms/step - loss: 0.1276 - accuracy: 0.9564 - val_loss: 0.5598 - val_accuracy: 0.8078\n",
            "Epoch 11/30\n",
            "196/196 [==============================] - 27s 141ms/step - loss: 0.1283 - accuracy: 0.9560 - val_loss: 0.5843 - val_accuracy: 0.8081\n",
            "Epoch 12/30\n",
            "196/196 [==============================] - 29s 146ms/step - loss: 0.1191 - accuracy: 0.9596 - val_loss: 0.6099 - val_accuracy: 0.8059\n",
            "Epoch 13/30\n",
            "196/196 [==============================] - 31s 157ms/step - loss: 0.1046 - accuracy: 0.9652 - val_loss: 0.6593 - val_accuracy: 0.7988\n",
            "Epoch 14/30\n",
            "196/196 [==============================] - 32s 162ms/step - loss: 0.0877 - accuracy: 0.9716 - val_loss: 0.7203 - val_accuracy: 0.7974\n",
            "Epoch 15/30\n",
            "196/196 [==============================] - 31s 157ms/step - loss: 0.0803 - accuracy: 0.9737 - val_loss: 0.7451 - val_accuracy: 0.7978\n",
            "Epoch 16/30\n",
            "196/196 [==============================] - 31s 161ms/step - loss: 0.1008 - accuracy: 0.9653 - val_loss: 0.7644 - val_accuracy: 0.7989\n",
            "Epoch 17/30\n",
            "196/196 [==============================] - 31s 157ms/step - loss: 0.0718 - accuracy: 0.9766 - val_loss: 0.7904 - val_accuracy: 0.7985\n",
            "Epoch 18/30\n",
            "196/196 [==============================] - 32s 163ms/step - loss: 0.0577 - accuracy: 0.9816 - val_loss: 0.7398 - val_accuracy: 0.7874\n",
            "Epoch 19/30\n",
            "196/196 [==============================] - 31s 159ms/step - loss: 0.0832 - accuracy: 0.9701 - val_loss: 0.8091 - val_accuracy: 0.7872\n",
            "Epoch 20/30\n",
            "196/196 [==============================] - 32s 161ms/step - loss: 0.0876 - accuracy: 0.9688 - val_loss: 0.9133 - val_accuracy: 0.7965\n",
            "Epoch 21/30\n",
            "196/196 [==============================] - 27s 140ms/step - loss: 0.0769 - accuracy: 0.9729 - val_loss: 0.9384 - val_accuracy: 0.7895\n",
            "Epoch 22/30\n",
            "196/196 [==============================] - 27s 140ms/step - loss: 0.0662 - accuracy: 0.9784 - val_loss: 0.9275 - val_accuracy: 0.7899\n",
            "Epoch 23/30\n",
            "196/196 [==============================] - 31s 160ms/step - loss: 0.0428 - accuracy: 0.9872 - val_loss: 0.9448 - val_accuracy: 0.7893\n",
            "Epoch 24/30\n",
            "196/196 [==============================] - 32s 162ms/step - loss: 0.0374 - accuracy: 0.9888 - val_loss: 1.1231 - val_accuracy: 0.7922\n",
            "Epoch 25/30\n",
            "196/196 [==============================] - 31s 161ms/step - loss: 0.0417 - accuracy: 0.9868 - val_loss: 1.0124 - val_accuracy: 0.7882\n",
            "Epoch 26/30\n",
            "196/196 [==============================] - 32s 163ms/step - loss: 0.0366 - accuracy: 0.9887 - val_loss: 1.0190 - val_accuracy: 0.7850\n",
            "Epoch 27/30\n",
            "196/196 [==============================] - 27s 139ms/step - loss: 0.0887 - accuracy: 0.9677 - val_loss: 0.8851 - val_accuracy: 0.7922\n",
            "Epoch 28/30\n",
            "196/196 [==============================] - 27s 140ms/step - loss: 0.0660 - accuracy: 0.9773 - val_loss: 0.9939 - val_accuracy: 0.7913\n",
            "Epoch 29/30\n",
            "196/196 [==============================] - 28s 141ms/step - loss: 0.0442 - accuracy: 0.9852 - val_loss: 1.1206 - val_accuracy: 0.7926\n",
            "Epoch 30/30\n",
            "196/196 [==============================] - 28s 145ms/step - loss: 0.0408 - accuracy: 0.9866 - val_loss: 1.0457 - val_accuracy: 0.7789\n"
          ]
        },
        {
          "output_type": "stream",
          "name": "stderr",
          "text": [
            "/usr/local/lib/python3.10/dist-packages/keras/src/engine/training.py:3000: UserWarning: You are saving your model as an HDF5 file via `model.save()`. This file format is considered legacy. We recommend using instead the native Keras format, e.g. `model.save('my_model.keras')`.\n",
            "  saving_api.save_model(\n"
          ]
        }
      ]
    },
    {
      "cell_type": "code",
      "source": [
        "import tensorflow as tf\n",
        "from tensorflow.keras.preprocessing.text import Tokenizer\n",
        "from tensorflow.keras.preprocessing.sequence import pad_sequences\n",
        "from tensorflow.keras.models import load_model\n",
        "import numpy as np\n",
        "\n",
        "# Load pre-trained RNN model and tokenizer\n",
        "model = load_model('rnn_sentiment_model.h5')\n",
        "tokenizer = Tokenizer()\n",
        "tokenizer.num_words = 20000  # Adjust based on your model's tokenizer configuration\n",
        "\n",
        "# Get user input\n",
        "user_input = input(\"Enter a sentence for sentiment analysis: \")\n",
        "\n",
        "# Tokenize and encode the user input\n",
        "sequences = tokenizer.texts_to_sequences([user_input])\n",
        "padded_sequence = pad_sequences(sequences, maxlen=100)  # Adjust maxlen based on your model's configuration\n",
        "\n",
        "# Perform sentiment analysis\n",
        "predicted_prob = model.predict(padded_sequence)[0][0]\n",
        "\n",
        "# Interpret the model's prediction\n",
        "sentiment = \"Positive\" if predicted_prob >= 0.5 else \"Negative\"\n",
        "\n",
        "# Display the sentiment prediction\n",
        "print(f\"Sentiment Analysis Result: {sentiment} (Probability: {predicted_prob:.2f})\")\n"
      ],
      "metadata": {
        "colab": {
          "base_uri": "https://localhost:8080/"
        },
        "id": "dzSil1dJ9Ozi",
        "outputId": "4f2386fa-ff7d-4076-f13e-33435915f58f"
      },
      "execution_count": 10,
      "outputs": [
        {
          "output_type": "stream",
          "name": "stdout",
          "text": [
            "Enter a sentence for sentiment analysis: movie is postive\n",
            "1/1 [==============================] - 0s 147ms/step\n",
            "Sentiment Analysis Result: Positive (Probability: 1.00)\n"
          ]
        }
      ]
    }
  ]
}
